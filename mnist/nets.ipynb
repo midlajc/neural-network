{
  "nbformat": 4,
  "nbformat_minor": 0,
  "metadata": {
    "colab": {
      "provenance": []
    },
    "kernelspec": {
      "name": "python3",
      "display_name": "Python 3"
    },
    "language_info": {
      "name": "python"
    }
  },
  "cells": [
    {
      "cell_type": "code",
      "execution_count": null,
      "metadata": {
        "id": "jPtLmo74D5t7"
      },
      "outputs": [],
      "source": [
        "import numpy as np\n",
        "import matplotlib.pyplot as plt"
      ]
    },
    {
      "cell_type": "code",
      "source": [
        "def f(x):\n",
        "  return 3* x**2- 4*x + 5"
      ],
      "metadata": {
        "id": "KQR-TRD9EO2h"
      },
      "execution_count": null,
      "outputs": []
    },
    {
      "cell_type": "code",
      "source": [
        "f(1)"
      ],
      "metadata": {
        "colab": {
          "base_uri": "https://localhost:8080/"
        },
        "id": "w-TaVVOUEbz_",
        "outputId": "3013a328-d32c-40ec-fb63-7356667838e5"
      },
      "execution_count": null,
      "outputs": [
        {
          "output_type": "execute_result",
          "data": {
            "text/plain": [
              "4"
            ]
          },
          "metadata": {},
          "execution_count": 5
        }
      ]
    },
    {
      "cell_type": "code",
      "source": [
        "xs = np.arange(-5, 5, 0.25)\n",
        "xs"
      ],
      "metadata": {
        "colab": {
          "base_uri": "https://localhost:8080/"
        },
        "id": "E5ohj5V2ILDM",
        "outputId": "87a7382a-e4fd-4a1b-b6ea-5d0f2fca7d6c"
      },
      "execution_count": null,
      "outputs": [
        {
          "output_type": "execute_result",
          "data": {
            "text/plain": [
              "array([-5.  , -4.75, -4.5 , -4.25, -4.  , -3.75, -3.5 , -3.25, -3.  ,\n",
              "       -2.75, -2.5 , -2.25, -2.  , -1.75, -1.5 , -1.25, -1.  , -0.75,\n",
              "       -0.5 , -0.25,  0.  ,  0.25,  0.5 ,  0.75,  1.  ,  1.25,  1.5 ,\n",
              "        1.75,  2.  ,  2.25,  2.5 ,  2.75,  3.  ,  3.25,  3.5 ,  3.75,\n",
              "        4.  ,  4.25,  4.5 ,  4.75])"
            ]
          },
          "metadata": {},
          "execution_count": 6
        }
      ]
    },
    {
      "cell_type": "code",
      "source": [
        "ys = f(xs)\n",
        "ys"
      ],
      "metadata": {
        "colab": {
          "base_uri": "https://localhost:8080/"
        },
        "id": "YnWBO0u7IM7G",
        "outputId": "665b3f43-54ac-4e78-ed6a-dc7288bb4c07"
      },
      "execution_count": null,
      "outputs": [
        {
          "output_type": "execute_result",
          "data": {
            "text/plain": [
              "array([100.    ,  91.6875,  83.75  ,  76.1875,  69.    ,  62.1875,\n",
              "        55.75  ,  49.6875,  44.    ,  38.6875,  33.75  ,  29.1875,\n",
              "        25.    ,  21.1875,  17.75  ,  14.6875,  12.    ,   9.6875,\n",
              "         7.75  ,   6.1875,   5.    ,   4.1875,   3.75  ,   3.6875,\n",
              "         4.    ,   4.6875,   5.75  ,   7.1875,   9.    ,  11.1875,\n",
              "        13.75  ,  16.6875,  20.    ,  23.6875,  27.75  ,  32.1875,\n",
              "        37.    ,  42.1875,  47.75  ,  53.6875])"
            ]
          },
          "metadata": {},
          "execution_count": 8
        }
      ]
    },
    {
      "cell_type": "code",
      "source": [
        "plt.plot(xs, ys)"
      ],
      "metadata": {
        "colab": {
          "base_uri": "https://localhost:8080/",
          "height": 447
        },
        "id": "5Fc5F8ZjIRS4",
        "outputId": "cf78d53f-8f09-4388-bc05-0bb0f5e8f8e6"
      },
      "execution_count": null,
      "outputs": [
        {
          "output_type": "execute_result",
          "data": {
            "text/plain": [
              "[<matplotlib.lines.Line2D at 0x7adb628c6e60>]"
            ]
          },
          "metadata": {},
          "execution_count": 9
        },
        {
          "output_type": "display_data",
          "data": {
            "text/plain": [
              "<Figure size 640x480 with 1 Axes>"
            ],
            "image/png": "[encoded data removed]"
          },
          "metadata": {}
        }
      ]
    },
    {
      "cell_type": "code",
      "source": [
        "def f_(x):\n",
        "  h = 0.001\n",
        "  return (f(x+h) - f(x))/h"
      ],
      "metadata": {
        "id": "IevJxAaYEuyN"
      },
      "execution_count": null,
      "outputs": []
    },
    {
      "cell_type": "code",
      "source": [
        "f_(3)"
      ],
      "metadata": {
        "colab": {
          "base_uri": "https://localhost:8080/"
        },
        "id": "lRkW2XbzEu0T",
        "outputId": "1b825092-d724-4356-ad42-a655419d8887"
      },
      "execution_count": null,
      "outputs": [
        {
          "output_type": "execute_result",
          "data": {
            "text/plain": [
              "14.00300000000243"
            ]
          },
          "metadata": {},
          "execution_count": 52
        }
      ]
    },
    {
      "cell_type": "code",
      "source": [
        "x = np.random.uniform(-5,5)"
      ],
      "metadata": {
        "id": "i0mYrWOuEu6t"
      },
      "execution_count": null,
      "outputs": []
    },
    {
      "cell_type": "code",
      "source": [
        "x"
      ],
      "metadata": {
        "colab": {
          "base_uri": "https://localhost:8080/"
        },
        "id": "0cmtSzAmEu9T",
        "outputId": "b213b83a-58f2-48d2-a5d1-8ec6a69f6843"
      },
      "execution_count": null,
      "outputs": [
        {
          "output_type": "execute_result",
          "data": {
            "text/plain": [
              "4.463846005808005"
            ]
          },
          "metadata": {},
          "execution_count": 11
        }
      ]
    },
    {
      "cell_type": "code",
      "source": [
        "f(x)"
      ],
      "metadata": {
        "colab": {
          "base_uri": "https://localhost:8080/"
        },
        "id": "LZxfjhRCEu_f",
        "outputId": "9cd0cd4a-daf1-4340-dfa2-711a921824f3"
      },
      "execution_count": null,
      "outputs": [
        {
          "output_type": "execute_result",
          "data": {
            "text/plain": [
              "9.758427594825916"
            ]
          },
          "metadata": {},
          "execution_count": 12
        }
      ]
    },
    {
      "cell_type": "code",
      "source": [
        "x += -0.1 * f_(x)\n",
        "f(x)"
      ],
      "metadata": {
        "colab": {
          "base_uri": "https://localhost:8080/"
        },
        "id": "PjgQYi2pFjJx",
        "outputId": "704925e9-afd5-4ab3-c653-661b05bd120f"
      },
      "execution_count": null,
      "outputs": [
        {
          "output_type": "execute_result",
          "data": {
            "text/plain": [
              "4.642374675565955"
            ]
          },
          "metadata": {},
          "execution_count": 13
        }
      ]
    },
    {
      "cell_type": "code",
      "source": [
        "x"
      ],
      "metadata": {
        "colab": {
          "base_uri": "https://localhost:8080/"
        },
        "id": "w7GmeSW4FzkI",
        "outputId": "a584cc6a-aad3-459d-c9c7-52ee62a732ad"
      },
      "execution_count": null,
      "outputs": [
        {
          "output_type": "execute_result",
          "data": {
            "text/plain": [
              "0.09637200338598184"
            ]
          },
          "metadata": {},
          "execution_count": 14
        }
      ]
    },
    {
      "cell_type": "code",
      "source": [
        "def f(x ,y):\n",
        "    return x ** 2 + y ** 2"
      ],
      "metadata": {
        "id": "zJCF5A_bGG2t"
      },
      "execution_count": null,
      "outputs": []
    },
    {
      "cell_type": "code",
      "source": [
        "def f_(x,y):\n",
        "    h = 0.001\n",
        "    x_ = (f(x+h,y) - f(x,y)) / h\n",
        "    y_ = (f(x,y+h) - f(x,y)) / h\n",
        "    return x_,y_"
      ],
      "metadata": {
        "id": "H36BuV4jGStV"
      },
      "execution_count": null,
      "outputs": []
    },
    {
      "cell_type": "code",
      "source": [
        "x = np.random.uniform(-5,5)\n",
        "y = np.random.uniform(-5,5)"
      ],
      "metadata": {
        "id": "ZIPfr1uMGwM9"
      },
      "execution_count": null,
      "outputs": []
    },
    {
      "cell_type": "code",
      "source": [
        "x_ , y_ = f_(x,y)\n",
        "x += -0.1 * x_\n",
        "y += -0.1 * y_\n",
        "\n",
        "print(x,y)"
      ],
      "metadata": {
        "colab": {
          "base_uri": "https://localhost:8080/"
        },
        "id": "28gbPpsUGwKf",
        "outputId": "70230bb0-e782-41c9-f7c7-d23be1c79b53"
      },
      "execution_count": null,
      "outputs": [
        {
          "output_type": "stream",
          "name": "stdout",
          "text": [
            "1.6090014263683958 0.6572191963814786\n"
          ]
        }
      ]
    },
    {
      "cell_type": "code",
      "source": [
        "from graphviz import Digraph\n",
        "\n",
        "def trace(root):\n",
        "  # builds a set of all nodes and edges in a graph\n",
        "  nodes, edges = set(), set()\n",
        "  def build(v):\n",
        "    if v not in nodes:\n",
        "      nodes.add(v)\n",
        "      for child in v._prev:\n",
        "        edges.add((child, v))\n",
        "        build(child)\n",
        "  build(root)\n",
        "  return nodes, edges\n",
        "\n",
        "def draw_dot(root):\n",
        "  dot = Digraph(format='svg', graph_attr={'rankdir': 'LR'}) # LR = left to right\n",
        "\n",
        "  nodes, edges = trace(root)\n",
        "  for n in nodes:\n",
        "    uid = str(id(n))\n",
        "    # for any value in the graph, create a rectangular ('record') node for it\n",
        "    dot.node(name = uid, label = \"{ %s | data %.4f | grad %.4f }\" % (n.label, n.data, n.grad), shape='record')\n",
        "    if n._op:\n",
        "      # if this value is a result of some operation, create an op node for it\n",
        "      dot.node(name = uid + n._op, label = n._op)\n",
        "      # and connect this node to it\n",
        "      dot.edge(uid + n._op, uid)\n",
        "\n",
        "  for n1, n2 in edges:\n",
        "    # connect n1 to the op node of n2\n",
        "    dot.edge(str(id(n1)), str(id(n2)) + n2._op)\n",
        "\n",
        "  return dot"
      ],
      "metadata": {
        "id": "tcpCCkusNMsS"
      },
      "execution_count": null,
      "outputs": []
    },
    {
      "cell_type": "code",
      "source": [
        "class Value:\n",
        "  def __init__(self,data, _prev=(), _op = '', label = ''):\n",
        "    self.data = data\n",
        "    self.grad = 0.0\n",
        "    self._backward = lambda : None\n",
        "    self._prev = set(_prev)\n",
        "    self._op = _op\n",
        "    self.label = label\n",
        "\n",
        "  def __repr__(self):\n",
        "    return f\"Value(data={self.data})\"\n",
        "\n",
        "  def __add__(self,other):\n",
        "    other = other if isinstance(other, Value) else Value(other)\n",
        "    out  = Value(self.data + other.data, (self, other) , \"+\")\n",
        "    def _backward():\n",
        "      self.grad += out.grad\n",
        "      other.grad += out.grad\n",
        "    out._backward = _backward\n",
        "    return out\n",
        "\n",
        "  def __radd__(self,other):\n",
        "    other = other if isinstance(other, Value) else Value(other)\n",
        "    return self + other\n",
        "\n",
        "  def __sub__(self, other):\n",
        "    return self + other * -1\n",
        "\n",
        "  def __pow__(self, other):\n",
        "    assert isinstance(other, (int, float)), \"only supports int/float\"\n",
        "    out = Value(self.data ** other, (self,), f'**{other}')\n",
        "    def _backward():\n",
        "      self.grad += out.grad * other * (self.data ** (other - 1))\n",
        "    out._backward = _backward\n",
        "    return out\n",
        "\n",
        "  def __mul__(self,other):\n",
        "    other = other if isinstance(other, Value) else Value(other)\n",
        "    out  = Value(self.data * other.data, (self, other) , \"*\")\n",
        "    def _backward():\n",
        "      self.grad += other.data * out.grad\n",
        "      other.grad += self.data * out.grad\n",
        "    out._backward = _backward\n",
        "    return out\n",
        "\n",
        "  def sigmoid(self):\n",
        "    s = 1 / (1 + np.exp(-self.data))\n",
        "    out = Value(s, (self,), 'sigmoid')\n",
        "    def _backward():\n",
        "      # self.grad += (1 - out.data) * out.grad\n",
        "      self.grad += out.grad * (s * (1 - s))\n",
        "    out._backward = _backward\n",
        "    return out\n",
        "\n",
        "  def backward(self):\n",
        "    topo = []\n",
        "    visited = set()\n",
        "    def build_topo(node):\n",
        "      if node not in visited:\n",
        "        visited.add(node)\n",
        "        for child in node._prev:\n",
        "          build_topo(child)\n",
        "        topo.append(node)\n",
        "    build_topo(self)\n",
        "\n",
        "    self.grad = 1.0\n",
        "    for node in reversed(topo):\n",
        "      node._backward()\n"
      ],
      "metadata": {
        "id": "lG9xK8EEH1aC"
      },
      "execution_count": null,
      "outputs": []
    },
    {
      "cell_type": "code",
      "source": [
        "a = Value(3.0,label=\"a\")\n",
        "a.data"
      ],
      "metadata": {
        "id": "7FDS2Ce5IApG",
        "colab": {
          "base_uri": "https://localhost:8080/"
        },
        "outputId": "5a869ff2-4c66-4086-bd6e-a9204413b61b"
      },
      "execution_count": null,
      "outputs": [
        {
          "output_type": "execute_result",
          "data": {
            "text/plain": [
              "3.0"
            ]
          },
          "metadata": {},
          "execution_count": 21
        }
      ]
    },
    {
      "cell_type": "code",
      "source": [
        "a"
      ],
      "metadata": {
        "colab": {
          "base_uri": "https://localhost:8080/"
        },
        "id": "IH0MOxtdKbO-",
        "outputId": "2e17d7dc-1572-44f3-87f9-1b8e71dc965a"
      },
      "execution_count": null,
      "outputs": [
        {
          "output_type": "execute_result",
          "data": {
            "text/plain": [
              "Value(data=3.0)"
            ]
          },
          "metadata": {},
          "execution_count": 22
        }
      ]
    },
    {
      "cell_type": "code",
      "source": [
        "b=Value(-2.0,label=\"b\")\n",
        "b"
      ],
      "metadata": {
        "colab": {
          "base_uri": "https://localhost:8080/"
        },
        "id": "KbbjjfjSKmi5",
        "outputId": "98fde574-a549-4533-ba99-ac2a47558628"
      },
      "execution_count": null,
      "outputs": [
        {
          "output_type": "execute_result",
          "data": {
            "text/plain": [
              "Value(data=-2.0)"
            ]
          },
          "metadata": {},
          "execution_count": 23
        }
      ]
    },
    {
      "cell_type": "code",
      "source": [
        "a = Value(3.0, label='a')\n",
        "b = Value(-2.0, label='b')\n",
        "\n",
        "c = a * b; c.label = 'c'\n",
        "d = a + b; d.label = 'd'\n",
        "\n",
        "o = c * d; o.label ='o'\n",
        "\n",
        "o"
      ],
      "metadata": {
        "colab": {
          "base_uri": "https://localhost:8080/"
        },
        "id": "mEpDTyhQKy2X",
        "outputId": "8d21030f-9754-44cf-afd3-f5d2d46623fd"
      },
      "execution_count": null,
      "outputs": [
        {
          "output_type": "execute_result",
          "data": {
            "text/plain": [
              "Value(data=-6.0)"
            ]
          },
          "metadata": {},
          "execution_count": 24
        }
      ]
    },
    {
      "cell_type": "code",
      "source": [
        "c._prev"
      ],
      "metadata": {
        "colab": {
          "base_uri": "https://localhost:8080/"
        },
        "id": "PtQ449PAMGNs",
        "outputId": "ad9c713e-70f7-407a-bea0-ad824e46d15f"
      },
      "execution_count": null,
      "outputs": [
        {
          "output_type": "execute_result",
          "data": {
            "text/plain": [
              "{Value(data=-2.0), Value(data=3.0)}"
            ]
          },
          "metadata": {},
          "execution_count": 25
        }
      ]
    },
    {
      "cell_type": "code",
      "source": [
        "o.grad = 1.0\n",
        "o.backward()"
      ],
      "metadata": {
        "id": "z8WcNKsgbgtQ"
      },
      "execution_count": null,
      "outputs": []
    },
    {
      "cell_type": "code",
      "source": [
        "draw_dot(o)"
      ],
      "metadata": {
        "colab": {
          "base_uri": "https://localhost:8080/",
          "height": 155
        },
        "id": "id1nqlIxNQXA",
        "outputId": "69d20996-3c04-45ad-c757-3ea654c6a643"
      },
      "execution_count": null,
      "outputs": [
        {
          "output_type": "execute_result",
          "data": {
            "image/svg+xml": "<?xml version=\"1.0\" encoding=\"UTF-8\" standalone=\"no\"?>\n<!DOCTYPE svg PUBLIC \"-//W3C//DTD SVG 1.1//EN\"\n \"http://www.w3.org/Graphics/SVG/1.1/DTD/svg11.dtd\">\n<!-- Generated by graphviz version 2.43.0 (0)\n -->\n<!-- Title: %3 Pages: 1 -->\n<svg width=\"834pt\" height=\"100pt\"\n viewBox=\"0.00 0.00 834.00 100.00\" xmlns=\"http://www.w3.org/2000/svg\" xmlns:xlink=\"http://www.w3.org/1999/xlink\">\n<g id=\"graph0\" class=\"graph\" transform=\"scale(1 1) rotate(0) translate(4 96)\">\n<title>%3</title>\n<polygon fill=\"white\" stroke=\"transparent\" points=\"-4,4 -4,-96 830,-96 830,4 -4,4\"/>\n<!-- 135082667652624 -->\n<g id=\"node1\" class=\"node\">\n<title>135082667652624</title>\n<polygon fill=\"none\" stroke=\"black\" points=\"2.5,-55.5 2.5,-91.5 191.5,-91.5 191.5,-55.5 2.5,-55.5\"/>\n<text text-anchor=\"middle\" x=\"14\" y=\"-69.8\" font-family=\"Times,serif\" font-size=\"14.00\">a</text>\n<polyline fill=\"none\" stroke=\"black\" points=\"25.5,-55.5 25.5,-91.5 \"/>\n<text text-anchor=\"middle\" x=\"65.5\" y=\"-69.8\" font-family=\"Times,serif\" font-size=\"14.00\">data 3.0000</text>\n<polyline fill=\"none\" stroke=\"black\" points=\"105.5,-55.5 105.5,-91.5 \"/>\n<text text-anchor=\"middle\" x=\"148.5\" y=\"-69.8\" font-family=\"Times,serif\" font-size=\"14.00\">grad &#45;8.0000</text>\n</g>\n<!-- 135082667652768* -->\n<g id=\"node4\" class=\"node\">\n<title>135082667652768*</title>\n<ellipse fill=\"none\" stroke=\"black\" cx=\"257\" cy=\"-73.5\" rx=\"27\" ry=\"18\"/>\n<text text-anchor=\"middle\" x=\"257\" y=\"-69.8\" font-family=\"Times,serif\" font-size=\"14.00\">*</text>\n</g>\n<!-- 135082667652624&#45;&gt;135082667652768* -->\n<g id=\"edge5\" class=\"edge\">\n<title>135082667652624&#45;&gt;135082667652768*</title>\n<path fill=\"none\" stroke=\"black\" d=\"M191.74,-73.5C201.55,-73.5 211.04,-73.5 219.59,-73.5\"/>\n<polygon fill=\"black\" stroke=\"black\" points=\"219.87,-77 229.87,-73.5 219.87,-70 219.87,-77\"/>\n</g>\n<!-- 135082667651376+ -->\n<g id=\"node6\" class=\"node\">\n<title>135082667651376+</title>\n<ellipse fill=\"none\" stroke=\"black\" cx=\"257\" cy=\"-18.5\" rx=\"27\" ry=\"18\"/>\n<text text-anchor=\"middle\" x=\"257\" y=\"-14.8\" font-family=\"Times,serif\" font-size=\"14.00\">+</text>\n</g>\n<!-- 135082667652624&#45;&gt;135082667651376+ -->\n<g id=\"edge7\" class=\"edge\">\n<title>135082667652624&#45;&gt;135082667651376+</title>\n<path fill=\"none\" stroke=\"black\" d=\"M166.84,-55.49C176.04,-52.69 185.3,-49.67 194,-46.5 204.51,-42.67 215.73,-37.84 225.7,-33.28\"/>\n<polygon fill=\"black\" stroke=\"black\" points=\"227.23,-36.43 234.81,-29.02 224.27,-30.09 227.23,-36.43\"/>\n</g>\n<!-- 135082667651616 -->\n<g id=\"node2\" class=\"node\">\n<title>135082667651616</title>\n<polygon fill=\"none\" stroke=\"black\" points=\"0,-0.5 0,-36.5 194,-36.5 194,-0.5 0,-0.5\"/>\n<text text-anchor=\"middle\" x=\"11.5\" y=\"-14.8\" font-family=\"Times,serif\" font-size=\"14.00\">b</text>\n<polyline fill=\"none\" stroke=\"black\" points=\"23,-0.5 23,-36.5 \"/>\n<text text-anchor=\"middle\" x=\"65.5\" y=\"-14.8\" font-family=\"Times,serif\" font-size=\"14.00\">data &#45;2.0000</text>\n<polyline fill=\"none\" stroke=\"black\" points=\"108,-0.5 108,-36.5 \"/>\n<text text-anchor=\"middle\" x=\"151\" y=\"-14.8\" font-family=\"Times,serif\" font-size=\"14.00\">grad &#45;3.0000</text>\n</g>\n<!-- 135082667651616&#45;&gt;135082667652768* -->\n<g id=\"edge8\" class=\"edge\">\n<title>135082667651616&#45;&gt;135082667652768*</title>\n<path fill=\"none\" stroke=\"black\" d=\"M163.94,-36.53C174.08,-39.65 184.37,-43.01 194,-46.5 204.27,-50.22 215.26,-54.8 225.09,-59.12\"/>\n<polygon fill=\"black\" stroke=\"black\" points=\"223.91,-62.43 234.47,-63.32 226.77,-56.04 223.91,-62.43\"/>\n</g>\n<!-- 135082667651616&#45;&gt;135082667651376+ -->\n<g id=\"edge9\" class=\"edge\">\n<title>135082667651616&#45;&gt;135082667651376+</title>\n<path fill=\"none\" stroke=\"black\" d=\"M194.01,-18.5C202.98,-18.5 211.65,-18.5 219.51,-18.5\"/>\n<polygon fill=\"black\" stroke=\"black\" points=\"219.7,-22 229.7,-18.5 219.7,-15 219.7,-22\"/>\n</g>\n<!-- 135082667652768 -->\n<g id=\"node3\" class=\"node\">\n<title>135082667652768</title>\n<polygon fill=\"none\" stroke=\"black\" points=\"320,-55.5 320,-91.5 510,-91.5 510,-55.5 320,-55.5\"/>\n<text text-anchor=\"middle\" x=\"331.5\" y=\"-69.8\" font-family=\"Times,serif\" font-size=\"14.00\">c</text>\n<polyline fill=\"none\" stroke=\"black\" points=\"343,-55.5 343,-91.5 \"/>\n<text text-anchor=\"middle\" x=\"385.5\" y=\"-69.8\" font-family=\"Times,serif\" font-size=\"14.00\">data &#45;6.0000</text>\n<polyline fill=\"none\" stroke=\"black\" points=\"428,-55.5 428,-91.5 \"/>\n<text text-anchor=\"middle\" x=\"469\" y=\"-69.8\" font-family=\"Times,serif\" font-size=\"14.00\">grad 1.0000</text>\n</g>\n<!-- 135082667651472* -->\n<g id=\"node8\" class=\"node\">\n<title>135082667651472*</title>\n<ellipse fill=\"none\" stroke=\"black\" cx=\"573\" cy=\"-45.5\" rx=\"27\" ry=\"18\"/>\n<text text-anchor=\"middle\" x=\"573\" y=\"-41.8\" font-family=\"Times,serif\" font-size=\"14.00\">*</text>\n</g>\n<!-- 135082667652768&#45;&gt;135082667651472* -->\n<g id=\"edge4\" class=\"edge\">\n<title>135082667652768&#45;&gt;135082667651472*</title>\n<path fill=\"none\" stroke=\"black\" d=\"M510.34,-56.57C519.62,-54.9 528.58,-53.29 536.66,-51.84\"/>\n<polygon fill=\"black\" stroke=\"black\" points=\"537.49,-55.25 546.72,-50.04 536.26,-48.36 537.49,-55.25\"/>\n</g>\n<!-- 135082667652768*&#45;&gt;135082667652768 -->\n<g id=\"edge1\" class=\"edge\">\n<title>135082667652768*&#45;&gt;135082667652768</title>\n<path fill=\"none\" stroke=\"black\" d=\"M284.11,-73.5C291.63,-73.5 300.32,-73.5 309.58,-73.5\"/>\n<polygon fill=\"black\" stroke=\"black\" points=\"309.81,-77 319.81,-73.5 309.81,-70 309.81,-77\"/>\n</g>\n<!-- 135082667651376 -->\n<g id=\"node5\" class=\"node\">\n<title>135082667651376</title>\n<polygon fill=\"none\" stroke=\"black\" points=\"320.5,-0.5 320.5,-36.5 509.5,-36.5 509.5,-0.5 320.5,-0.5\"/>\n<text text-anchor=\"middle\" x=\"332\" y=\"-14.8\" font-family=\"Times,serif\" font-size=\"14.00\">d</text>\n<polyline fill=\"none\" stroke=\"black\" points=\"343.5,-0.5 343.5,-36.5 \"/>\n<text text-anchor=\"middle\" x=\"383.5\" y=\"-14.8\" font-family=\"Times,serif\" font-size=\"14.00\">data 1.0000</text>\n<polyline fill=\"none\" stroke=\"black\" points=\"423.5,-0.5 423.5,-36.5 \"/>\n<text text-anchor=\"middle\" x=\"466.5\" y=\"-14.8\" font-family=\"Times,serif\" font-size=\"14.00\">grad &#45;6.0000</text>\n</g>\n<!-- 135082667651376&#45;&gt;135082667651472* -->\n<g id=\"edge6\" class=\"edge\">\n<title>135082667651376&#45;&gt;135082667651472*</title>\n<path fill=\"none\" stroke=\"black\" d=\"M509.9,-34.75C519.33,-36.38 528.45,-37.96 536.65,-39.38\"/>\n<polygon fill=\"black\" stroke=\"black\" points=\"536.06,-42.83 546.51,-41.09 537.26,-35.93 536.06,-42.83\"/>\n</g>\n<!-- 135082667651376+&#45;&gt;135082667651376 -->\n<g id=\"edge2\" class=\"edge\">\n<title>135082667651376+&#45;&gt;135082667651376</title>\n<path fill=\"none\" stroke=\"black\" d=\"M284.11,-18.5C291.84,-18.5 300.8,-18.5 310.35,-18.5\"/>\n<polygon fill=\"black\" stroke=\"black\" points=\"310.48,-22 320.48,-18.5 310.48,-15 310.48,-22\"/>\n</g>\n<!-- 135082667651472 -->\n<g id=\"node7\" class=\"node\">\n<title>135082667651472</title>\n<polygon fill=\"none\" stroke=\"black\" points=\"636,-27.5 636,-63.5 826,-63.5 826,-27.5 636,-27.5\"/>\n<text text-anchor=\"middle\" x=\"647.5\" y=\"-41.8\" font-family=\"Times,serif\" font-size=\"14.00\">o</text>\n<polyline fill=\"none\" stroke=\"black\" points=\"659,-27.5 659,-63.5 \"/>\n<text text-anchor=\"middle\" x=\"701.5\" y=\"-41.8\" font-family=\"Times,serif\" font-size=\"14.00\">data &#45;6.0000</text>\n<polyline fill=\"none\" stroke=\"black\" points=\"744,-27.5 744,-63.5 \"/>\n<text text-anchor=\"middle\" x=\"785\" y=\"-41.8\" font-family=\"Times,serif\" font-size=\"14.00\">grad 1.0000</text>\n</g>\n<!-- 135082667651472*&#45;&gt;135082667651472 -->\n<g id=\"edge3\" class=\"edge\">\n<title>135082667651472*&#45;&gt;135082667651472</title>\n<path fill=\"none\" stroke=\"black\" d=\"M600.11,-45.5C607.63,-45.5 616.32,-45.5 625.58,-45.5\"/>\n<polygon fill=\"black\" stroke=\"black\" points=\"625.81,-49 635.81,-45.5 625.81,-42 625.81,-49\"/>\n</g>\n</g>\n</svg>\n",
            "text/plain": [
              "<graphviz.graphs.Digraph at 0x7adb626b8310>"
            ]
          },
          "metadata": {},
          "execution_count": 27
        }
      ]
    },
    {
      "cell_type": "code",
      "source": [
        "x1 = Value(2.0, label='x1')\n",
        "x2 = Value(3.0, label='x2')\n",
        "\n",
        "w1 = Value(0.5, label='w1')\n",
        "w2 = Value(0.3, label='w2')\n",
        "\n",
        "x1w1 = x1 * w1; x1w1.label = 'x1w1'\n",
        "x2w2 = x2 * w2; x2w2.label = 'x2w2'\n",
        "\n",
        "x1w1x2w2 = x1w1 + x2w2; x1w1x2w2.label = 'x1w1 + x2w2'\n",
        "\n",
        "b = Value(0.6, label='b')\n",
        "\n",
        "x1w1x2w2b = x1w1x2w2 + b; x1w1x2w2b.label = 'x1w1x2w2 + b'\n",
        "\n",
        "o = x1w1x2w2b.sigmoid(); o.label = 'o'\n",
        "\n",
        "o.backward()\n"
      ],
      "metadata": {
        "id": "wHcI1dMSbj-s"
      },
      "execution_count": null,
      "outputs": []
    },
    {
      "cell_type": "code",
      "source": [
        "draw_dot(x1w1x2w2b)"
      ],
      "metadata": {
        "colab": {
          "base_uri": "https://localhost:8080/",
          "height": 321
        },
        "id": "A2uQ_Evwd_3E",
        "outputId": "30f1d5dd-be3b-4895-c75f-d9099e9a890f"
      },
      "execution_count": null,
      "outputs": [
        {
          "output_type": "execute_result",
          "data": {
            "image/svg+xml": "<?xml version=\"1.0\" encoding=\"UTF-8\" standalone=\"no\"?>\n<!DOCTYPE svg PUBLIC \"-//W3C//DTD SVG 1.1//EN\"\n \"http://www.w3.org/Graphics/SVG/1.1/DTD/svg11.dtd\">\n<!-- Generated by graphviz version 2.43.0 (0)\n -->\n<!-- Title: %3 Pages: 1 -->\n<svg width=\"1305pt\" height=\"210pt\"\n viewBox=\"0.00 0.00 1305.00 210.00\" xmlns=\"http://www.w3.org/2000/svg\" xmlns:xlink=\"http://www.w3.org/1999/xlink\">\n<g id=\"graph0\" class=\"graph\" transform=\"scale(1 1) rotate(0) translate(4 206)\">\n<title>%3</title>\n<polygon fill=\"white\" stroke=\"transparent\" points=\"-4,4 -4,-206 1301,-206 1301,4 -4,4\"/>\n<!-- 135082667654304 -->\n<g id=\"node1\" class=\"node\">\n<title>135082667654304</title>\n<polygon fill=\"none\" stroke=\"black\" points=\"1.5,-165.5 1.5,-201.5 193.5,-201.5 193.5,-165.5 1.5,-165.5\"/>\n<text text-anchor=\"middle\" x=\"16.5\" y=\"-179.8\" font-family=\"Times,serif\" font-size=\"14.00\">x1</text>\n<polyline fill=\"none\" stroke=\"black\" points=\"31.5,-165.5 31.5,-201.5 \"/>\n<text text-anchor=\"middle\" x=\"71.5\" y=\"-179.8\" font-family=\"Times,serif\" font-size=\"14.00\">data 2.0000</text>\n<polyline fill=\"none\" stroke=\"black\" points=\"111.5,-165.5 111.5,-201.5 \"/>\n<text text-anchor=\"middle\" x=\"152.5\" y=\"-179.8\" font-family=\"Times,serif\" font-size=\"14.00\">grad 0.0351</text>\n</g>\n<!-- 135082667652432* -->\n<g id=\"node9\" class=\"node\">\n<title>135082667652432*</title>\n<ellipse fill=\"none\" stroke=\"black\" cx=\"258\" cy=\"-128.5\" rx=\"27\" ry=\"18\"/>\n<text text-anchor=\"middle\" x=\"258\" y=\"-124.8\" font-family=\"Times,serif\" font-size=\"14.00\">*</text>\n</g>\n<!-- 135082667654304&#45;&gt;135082667652432* -->\n<g id=\"edge5\" class=\"edge\">\n<title>135082667654304&#45;&gt;135082667652432*</title>\n<path fill=\"none\" stroke=\"black\" d=\"M167.96,-165.43C177.12,-162.65 186.33,-159.65 195,-156.5 205.52,-152.68 216.74,-147.85 226.7,-143.29\"/>\n<polygon fill=\"black\" stroke=\"black\" points=\"228.23,-146.44 235.81,-139.03 225.27,-140.09 228.23,-146.44\"/>\n</g>\n<!-- 135082667641008 -->\n<g id=\"node2\" class=\"node\">\n<title>135082667641008</title>\n<polygon fill=\"none\" stroke=\"black\" points=\"0,-110.5 0,-146.5 195,-146.5 195,-110.5 0,-110.5\"/>\n<text text-anchor=\"middle\" x=\"16.5\" y=\"-124.8\" font-family=\"Times,serif\" font-size=\"14.00\">w1</text>\n<polyline fill=\"none\" stroke=\"black\" points=\"33,-110.5 33,-146.5 \"/>\n<text text-anchor=\"middle\" x=\"73\" y=\"-124.8\" font-family=\"Times,serif\" font-size=\"14.00\">data 0.5000</text>\n<polyline fill=\"none\" stroke=\"black\" points=\"113,-110.5 113,-146.5 \"/>\n<text text-anchor=\"middle\" x=\"154\" y=\"-124.8\" font-family=\"Times,serif\" font-size=\"14.00\">grad 0.1402</text>\n</g>\n<!-- 135082667641008&#45;&gt;135082667652432* -->\n<g id=\"edge8\" class=\"edge\">\n<title>135082667641008&#45;&gt;135082667652432*</title>\n<path fill=\"none\" stroke=\"black\" d=\"M195.27,-128.5C204.22,-128.5 212.85,-128.5 220.69,-128.5\"/>\n<polygon fill=\"black\" stroke=\"black\" points=\"220.83,-132 230.83,-128.5 220.83,-125 220.83,-132\"/>\n</g>\n<!-- 135082667642784 -->\n<g id=\"node3\" class=\"node\">\n<title>135082667642784</title>\n<polygon fill=\"none\" stroke=\"black\" points=\"1.5,-55.5 1.5,-91.5 193.5,-91.5 193.5,-55.5 1.5,-55.5\"/>\n<text text-anchor=\"middle\" x=\"16.5\" y=\"-69.8\" font-family=\"Times,serif\" font-size=\"14.00\">x2</text>\n<polyline fill=\"none\" stroke=\"black\" points=\"31.5,-55.5 31.5,-91.5 \"/>\n<text text-anchor=\"middle\" x=\"71.5\" y=\"-69.8\" font-family=\"Times,serif\" font-size=\"14.00\">data 3.0000</text>\n<polyline fill=\"none\" stroke=\"black\" points=\"111.5,-55.5 111.5,-91.5 \"/>\n<text text-anchor=\"middle\" x=\"152.5\" y=\"-69.8\" font-family=\"Times,serif\" font-size=\"14.00\">grad 0.0210</text>\n</g>\n<!-- 135082668195312* -->\n<g id=\"node11\" class=\"node\">\n<title>135082668195312*</title>\n<ellipse fill=\"none\" stroke=\"black\" cx=\"258\" cy=\"-73.5\" rx=\"27\" ry=\"18\"/>\n<text text-anchor=\"middle\" x=\"258\" y=\"-69.8\" font-family=\"Times,serif\" font-size=\"14.00\">*</text>\n</g>\n<!-- 135082667642784&#45;&gt;135082668195312* -->\n<g id=\"edge11\" class=\"edge\">\n<title>135082667642784&#45;&gt;135082668195312*</title>\n<path fill=\"none\" stroke=\"black\" d=\"M193.9,-73.5C203.29,-73.5 212.37,-73.5 220.57,-73.5\"/>\n<polygon fill=\"black\" stroke=\"black\" points=\"220.8,-77 230.8,-73.5 220.8,-70 220.8,-77\"/>\n</g>\n<!-- 135082668193488 -->\n<g id=\"node4\" class=\"node\">\n<title>135082668193488</title>\n<polygon fill=\"none\" stroke=\"black\" points=\"656,-82.5 656,-118.5 910,-118.5 910,-82.5 656,-82.5\"/>\n<text text-anchor=\"middle\" x=\"702\" y=\"-96.8\" font-family=\"Times,serif\" font-size=\"14.00\">x1w1 + x2w2</text>\n<polyline fill=\"none\" stroke=\"black\" points=\"748,-82.5 748,-118.5 \"/>\n<text text-anchor=\"middle\" x=\"788\" y=\"-96.8\" font-family=\"Times,serif\" font-size=\"14.00\">data 1.9000</text>\n<polyline fill=\"none\" stroke=\"black\" points=\"828,-82.5 828,-118.5 \"/>\n<text text-anchor=\"middle\" x=\"869\" y=\"-96.8\" font-family=\"Times,serif\" font-size=\"14.00\">grad 0.0701</text>\n</g>\n<!-- 135082668181488+ -->\n<g id=\"node13\" class=\"node\">\n<title>135082668181488+</title>\n<ellipse fill=\"none\" stroke=\"black\" cx=\"973\" cy=\"-72.5\" rx=\"27\" ry=\"18\"/>\n<text text-anchor=\"middle\" x=\"973\" y=\"-68.8\" font-family=\"Times,serif\" font-size=\"14.00\">+</text>\n</g>\n<!-- 135082668193488&#45;&gt;135082668181488+ -->\n<g id=\"edge12\" class=\"edge\">\n<title>135082668193488&#45;&gt;135082668181488+</title>\n<path fill=\"none\" stroke=\"black\" d=\"M904.92,-82.49C916.21,-80.81 926.94,-79.21 936.37,-77.81\"/>\n<polygon fill=\"black\" stroke=\"black\" points=\"937.04,-81.24 946.42,-76.31 936.01,-74.32 937.04,-81.24\"/>\n</g>\n<!-- 135082668193488+ -->\n<g id=\"node5\" class=\"node\">\n<title>135082668193488+</title>\n<ellipse fill=\"none\" stroke=\"black\" cx=\"593\" cy=\"-100.5\" rx=\"27\" ry=\"18\"/>\n<text text-anchor=\"middle\" x=\"593\" y=\"-96.8\" font-family=\"Times,serif\" font-size=\"14.00\">+</text>\n</g>\n<!-- 135082668193488+&#45;&gt;135082668193488 -->\n<g id=\"edge1\" class=\"edge\">\n<title>135082668193488+&#45;&gt;135082668193488</title>\n<path fill=\"none\" stroke=\"black\" d=\"M620.14,-100.5C627.63,-100.5 636.35,-100.5 645.78,-100.5\"/>\n<polygon fill=\"black\" stroke=\"black\" points=\"645.85,-104 655.85,-100.5 645.85,-97 645.85,-104\"/>\n</g>\n<!-- 135082667646720 -->\n<g id=\"node6\" class=\"node\">\n<title>135082667646720</title>\n<polygon fill=\"none\" stroke=\"black\" points=\"690.5,-27.5 690.5,-63.5 875.5,-63.5 875.5,-27.5 690.5,-27.5\"/>\n<text text-anchor=\"middle\" x=\"702\" y=\"-41.8\" font-family=\"Times,serif\" font-size=\"14.00\">b</text>\n<polyline fill=\"none\" stroke=\"black\" points=\"713.5,-27.5 713.5,-63.5 \"/>\n<text text-anchor=\"middle\" x=\"753.5\" y=\"-41.8\" font-family=\"Times,serif\" font-size=\"14.00\">data 0.6000</text>\n<polyline fill=\"none\" stroke=\"black\" points=\"793.5,-27.5 793.5,-63.5 \"/>\n<text text-anchor=\"middle\" x=\"834.5\" y=\"-41.8\" font-family=\"Times,serif\" font-size=\"14.00\">grad 0.0701</text>\n</g>\n<!-- 135082667646720&#45;&gt;135082668181488+ -->\n<g id=\"edge6\" class=\"edge\">\n<title>135082667646720&#45;&gt;135082668181488+</title>\n<path fill=\"none\" stroke=\"black\" d=\"M875.52,-58.64C897.02,-61.73 918.69,-64.84 936.03,-67.33\"/>\n<polygon fill=\"black\" stroke=\"black\" points=\"935.84,-70.84 946.23,-68.8 936.83,-63.91 935.84,-70.84\"/>\n</g>\n<!-- 135082667652864 -->\n<g id=\"node7\" class=\"node\">\n<title>135082667652864</title>\n<polygon fill=\"none\" stroke=\"black\" points=\"0,-0.5 0,-36.5 195,-36.5 195,-0.5 0,-0.5\"/>\n<text text-anchor=\"middle\" x=\"16.5\" y=\"-14.8\" font-family=\"Times,serif\" font-size=\"14.00\">w2</text>\n<polyline fill=\"none\" stroke=\"black\" points=\"33,-0.5 33,-36.5 \"/>\n<text text-anchor=\"middle\" x=\"73\" y=\"-14.8\" font-family=\"Times,serif\" font-size=\"14.00\">data 0.3000</text>\n<polyline fill=\"none\" stroke=\"black\" points=\"113,-0.5 113,-36.5 \"/>\n<text text-anchor=\"middle\" x=\"154\" y=\"-14.8\" font-family=\"Times,serif\" font-size=\"14.00\">grad 0.2103</text>\n</g>\n<!-- 135082667652864&#45;&gt;135082668195312* -->\n<g id=\"edge10\" class=\"edge\">\n<title>135082667652864&#45;&gt;135082668195312*</title>\n<path fill=\"none\" stroke=\"black\" d=\"M164.79,-36.51C174.98,-39.63 185.32,-43 195,-46.5 205.27,-50.21 216.26,-54.79 226.09,-59.11\"/>\n<polygon fill=\"black\" stroke=\"black\" points=\"224.91,-62.42 235.47,-63.31 227.77,-56.03 224.91,-62.42\"/>\n</g>\n<!-- 135082667652432 -->\n<g id=\"node8\" class=\"node\">\n<title>135082667652432</title>\n<polygon fill=\"none\" stroke=\"black\" points=\"321,-110.5 321,-146.5 530,-146.5 530,-110.5 321,-110.5\"/>\n<text text-anchor=\"middle\" x=\"344.5\" y=\"-124.8\" font-family=\"Times,serif\" font-size=\"14.00\">x1w1</text>\n<polyline fill=\"none\" stroke=\"black\" points=\"368,-110.5 368,-146.5 \"/>\n<text text-anchor=\"middle\" x=\"408\" y=\"-124.8\" font-family=\"Times,serif\" font-size=\"14.00\">data 1.0000</text>\n<polyline fill=\"none\" stroke=\"black\" points=\"448,-110.5 448,-146.5 \"/>\n<text text-anchor=\"middle\" x=\"489\" y=\"-124.8\" font-family=\"Times,serif\" font-size=\"14.00\">grad 0.0701</text>\n</g>\n<!-- 135082667652432&#45;&gt;135082668193488+ -->\n<g id=\"edge9\" class=\"edge\">\n<title>135082667652432&#45;&gt;135082668193488+</title>\n<path fill=\"none\" stroke=\"black\" d=\"M530.37,-110.93C539.68,-109.35 548.6,-107.84 556.62,-106.49\"/>\n<polygon fill=\"black\" stroke=\"black\" points=\"557.33,-109.91 566.61,-104.8 556.17,-103.01 557.33,-109.91\"/>\n</g>\n<!-- 135082667652432*&#45;&gt;135082667652432 -->\n<g id=\"edge2\" class=\"edge\">\n<title>135082667652432*&#45;&gt;135082667652432</title>\n<path fill=\"none\" stroke=\"black\" d=\"M285.22,-128.5C292.8,-128.5 301.59,-128.5 310.99,-128.5\"/>\n<polygon fill=\"black\" stroke=\"black\" points=\"310.99,-132 320.99,-128.5 310.99,-125 310.99,-132\"/>\n</g>\n<!-- 135082668195312 -->\n<g id=\"node10\" class=\"node\">\n<title>135082668195312</title>\n<polygon fill=\"none\" stroke=\"black\" points=\"321,-55.5 321,-91.5 530,-91.5 530,-55.5 321,-55.5\"/>\n<text text-anchor=\"middle\" x=\"344.5\" y=\"-69.8\" font-family=\"Times,serif\" font-size=\"14.00\">x2w2</text>\n<polyline fill=\"none\" stroke=\"black\" points=\"368,-55.5 368,-91.5 \"/>\n<text text-anchor=\"middle\" x=\"408\" y=\"-69.8\" font-family=\"Times,serif\" font-size=\"14.00\">data 0.9000</text>\n<polyline fill=\"none\" stroke=\"black\" points=\"448,-55.5 448,-91.5 \"/>\n<text text-anchor=\"middle\" x=\"489\" y=\"-69.8\" font-family=\"Times,serif\" font-size=\"14.00\">grad 0.0701</text>\n</g>\n<!-- 135082668195312&#45;&gt;135082668193488+ -->\n<g id=\"edge7\" class=\"edge\">\n<title>135082668195312&#45;&gt;135082668193488+</title>\n<path fill=\"none\" stroke=\"black\" d=\"M530.37,-90.45C539.68,-91.96 548.6,-93.42 556.62,-94.73\"/>\n<polygon fill=\"black\" stroke=\"black\" points=\"556.18,-98.2 566.61,-96.36 557.3,-91.29 556.18,-98.2\"/>\n</g>\n<!-- 135082668195312*&#45;&gt;135082668195312 -->\n<g id=\"edge3\" class=\"edge\">\n<title>135082668195312*&#45;&gt;135082668195312</title>\n<path fill=\"none\" stroke=\"black\" d=\"M285.22,-73.5C292.8,-73.5 301.59,-73.5 310.99,-73.5\"/>\n<polygon fill=\"black\" stroke=\"black\" points=\"310.99,-77 320.99,-73.5 310.99,-70 310.99,-77\"/>\n</g>\n<!-- 135082668181488 -->\n<g id=\"node12\" class=\"node\">\n<title>135082668181488</title>\n<polygon fill=\"none\" stroke=\"black\" points=\"1036,-54.5 1036,-90.5 1297,-90.5 1297,-54.5 1036,-54.5\"/>\n<text text-anchor=\"middle\" x=\"1085.5\" y=\"-68.8\" font-family=\"Times,serif\" font-size=\"14.00\">x1w1x2w2 + b</text>\n<polyline fill=\"none\" stroke=\"black\" points=\"1135,-54.5 1135,-90.5 \"/>\n<text text-anchor=\"middle\" x=\"1175\" y=\"-68.8\" font-family=\"Times,serif\" font-size=\"14.00\">data 2.5000</text>\n<polyline fill=\"none\" stroke=\"black\" points=\"1215,-54.5 1215,-90.5 \"/>\n<text text-anchor=\"middle\" x=\"1256\" y=\"-68.8\" font-family=\"Times,serif\" font-size=\"14.00\">grad 0.0701</text>\n</g>\n<!-- 135082668181488+&#45;&gt;135082668181488 -->\n<g id=\"edge4\" class=\"edge\">\n<title>135082668181488+&#45;&gt;135082668181488</title>\n<path fill=\"none\" stroke=\"black\" d=\"M1000.23,-72.5C1007.68,-72.5 1016.35,-72.5 1025.74,-72.5\"/>\n<polygon fill=\"black\" stroke=\"black\" points=\"1025.76,-76 1035.76,-72.5 1025.76,-69 1025.76,-76\"/>\n</g>\n</g>\n</svg>\n",
            "text/plain": [
              "<graphviz.graphs.Digraph at 0x7adb626bb310>"
            ]
          },
          "metadata": {},
          "execution_count": 29
        }
      ]
    },
    {
      "cell_type": "code",
      "source": [
        "class Neuron:\n",
        "  def __init__(self, nin):\n",
        "    self.bias = Value(np.random.uniform(-1, 1))\n",
        "    self.weights = [Value(np.random.uniform(-1, 1)) for _ in range(nin)]\n",
        "\n",
        "  def __call__(self, x):\n",
        "    z = sum([w * xi for w, xi in zip(self.weights, x) ]) + self.bias\n",
        "    return z.sigmoid()\n",
        "\n",
        "  def parameters(self):\n",
        "    return self.weights + [self.bias]\n",
        "\n",
        "class Layer:\n",
        "  def __init__(self, nin, nout):\n",
        "    self.neurons = [Neuron(nin) for _ in range(nout)]\n",
        "\n",
        "  def __call__(self, x):\n",
        "    outs = [n(x) for n in self.neurons]\n",
        "    return outs if len(outs) > 1 else outs[0]\n",
        "\n",
        "  def parameters(self):\n",
        "    return [p for neuron in self.neurons for p in neuron.parameters()]\n",
        "\n",
        "class MLP:\n",
        "  def __init__(self, nin, nouts):\n",
        "    sizes = [nin] + nouts\n",
        "    self.layers = [Layer(sizes[i], sizes[i+1]) for i in range(len(nouts))]\n",
        "\n",
        "  def __call__(self, x):\n",
        "    for layer in self.layers:\n",
        "      x = layer(x)\n",
        "    return x\n",
        "\n",
        "  def parameters(self):\n",
        "    return [p for layer in self.layers for p in layer.parameters()]"
      ],
      "metadata": {
        "id": "0_egjPX5ezKZ"
      },
      "execution_count": null,
      "outputs": []
    },
    {
      "cell_type": "code",
      "source": [
        "n = MLP(3,[4, 1])"
      ],
      "metadata": {
        "id": "5wF0tPSsfyVE"
      },
      "execution_count": null,
      "outputs": []
    },
    {
      "cell_type": "code",
      "source": [
        "xs = np.random.choice(np.arange(-3, 3, 0.5), size=(4, 3))"
      ],
      "metadata": {
        "id": "urdV7SPVf5Dp"
      },
      "execution_count": null,
      "outputs": []
    },
    {
      "cell_type": "code",
      "source": [
        "xs"
      ],
      "metadata": {
        "colab": {
          "base_uri": "https://localhost:8080/"
        },
        "id": "y-NeKxdlg4sb",
        "outputId": "0a6282ca-874c-4039-c862-9eb841678b4d"
      },
      "execution_count": null,
      "outputs": [
        {
          "output_type": "execute_result",
          "data": {
            "text/plain": [
              "array([[-3. , -3. ,  2. ],\n",
              "       [ 2. , -1.5,  0.5],\n",
              "       [-2. , -1. ,  2. ],\n",
              "       [-0.5,  0. , -1.5]])"
            ]
          },
          "metadata": {},
          "execution_count": 33
        }
      ]
    },
    {
      "cell_type": "code",
      "source": [
        "ys = np.random.choice(np.arange(0, 2, 1.0), size=(4, 1))\n",
        "ys"
      ],
      "metadata": {
        "colab": {
          "base_uri": "https://localhost:8080/"
        },
        "id": "bmpu8m1WiZGE",
        "outputId": "0b495807-7e49-4410-dd6d-f25be7d1770a"
      },
      "execution_count": null,
      "outputs": [
        {
          "output_type": "execute_result",
          "data": {
            "text/plain": [
              "array([[1.],\n",
              "       [1.],\n",
              "       [0.],\n",
              "       [1.]])"
            ]
          },
          "metadata": {},
          "execution_count": 47
        }
      ]
    },
    {
      "cell_type": "code",
      "source": [
        "for k in range(2000):\n",
        "  #forward pass\n",
        "  youts = [n(x) for x in xs]\n",
        "  loss = sum([(yo - y) ** 2 for yo, y in zip(youts, ys)])\n",
        "\n",
        "  #backward pass\n",
        "  for p in n.parameters():\n",
        "    p.grad = 0.0\n",
        "  loss.backward()\n",
        "\n",
        "  #gradient descend\n",
        "  for p in n.parameters():\n",
        "    p.data -= 0.05 * p.grad"
      ],
      "metadata": {
        "id": "VUxoBHKYldRV"
      },
      "execution_count": null,
      "outputs": []
    },
    {
      "cell_type": "code",
      "source": [
        "youts = [n(x) for x in xs]\n",
        "youts"
      ],
      "metadata": {
        "colab": {
          "base_uri": "https://localhost:8080/"
        },
        "id": "kiIKPkUklk2j",
        "outputId": "47e37702-8222-4ed8-b395-da1b153ae77e"
      },
      "execution_count": null,
      "outputs": [
        {
          "output_type": "execute_result",
          "data": {
            "text/plain": [
              "[Value(data=[0.50632045]),\n",
              " Value(data=[0.93851456]),\n",
              " Value(data=[0.50895953]),\n",
              " Value(data=[0.99849529])]"
            ]
          },
          "metadata": {},
          "execution_count": 50
        }
      ]
    }
  ]
}